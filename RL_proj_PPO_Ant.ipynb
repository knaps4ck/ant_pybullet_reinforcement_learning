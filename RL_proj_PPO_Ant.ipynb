{
  "cells": [
    {
      "cell_type": "code",
      "execution_count": null,
      "metadata": {
        "id": "k_IpO2PAcQe1"
      },
      "outputs": [],
      "source": [
        "!apt-get update \n",
        "!pip install stable_baselines3[extra] git+https://github.com/wandb/client.git\n",
        "!apt-get install x11-utils > /dev/null 2>&1 \n",
        "!!pip install pyglet==1.5.0\n",
        "!apt-get install -y xvfb python-opengl > /dev/null 2>&1\n",
        "!pip install pyvirtualdisplay\n",
        "!pip install pybullet"
      ]
    },
    {
      "cell_type": "code",
      "execution_count": null,
      "metadata": {
        "colab": {
          "base_uri": "https://localhost:8080/"
        },
        "id": "0oy90L-3EHmE",
        "outputId": "8a1d3195-715b-4b29-ec1f-0f5c121dac57"
      },
      "outputs": [
        {
          "output_type": "execute_result",
          "data": {
            "text/plain": [
              "<pyvirtualdisplay.display.Display at 0x7fb961334f10>"
            ]
          },
          "metadata": {},
          "execution_count": 2
        }
      ],
      "source": [
        "import numpy as np\n",
        "import matplotlib.pyplot as plt\n",
        "from IPython import display as ipythondisplay\n",
        "from pyvirtualdisplay import Display\n",
        "import gym\n",
        "import pybullet_envs\n",
        "from stable_baselines3 import PPO\n",
        "from stable_baselines3.common.monitor import Monitor\n",
        "from stable_baselines3.common.vec_env import DummyVecEnv, VecVideoRecorder, VecNormalize\n",
        "from stable_baselines3.common.env_util import make_vec_env\n",
        "import wandb\n",
        "from wandb.integration.sb3 import WandbCallback\n",
        "\n",
        "display = Display(visible=0, size=(400, 300))\n",
        "display.start()"
      ]
    },
    {
      "cell_type": "code",
      "execution_count": null,
      "metadata": {
        "id": "q7z1FC594j-s"
      },
      "outputs": [],
      "source": [
        "config = {\n",
        "    \"policy_type\": \"MlpPolicy\",\n",
        "    \"total_timesteps\": 1_000_000,\n",
        "    \"env_name\": \"AntBulletEnv-v0\",\n",
        "}\n",
        "run = wandb.init(\n",
        "    project=\"sb3\",\n",
        "    name='ANT_1M_steps_param_1',\n",
        "    config=config,\n",
        "    sync_tensorboard=True,\n",
        "    monitor_gym=True, \n",
        "    save_code=True,\n",
        ")\n",
        "\n",
        "def make_env():\n",
        "    env = gym.make(config[\"env_name\"])\n",
        "    env = Monitor(env)\n",
        "    return env\n",
        "\n",
        "env = DummyVecEnv([make_env])\n",
        "env = VecVideoRecorder(env, \"videos\", record_video_trigger=lambda x: x % 6000 == 0, video_length=200)\n",
        "model = PPO(config[\"policy_type\"], env, verbose=1, n_steps=512, tensorboard_log=f\"runs\", learning_rate=0.0005, gamma=0.99)\n",
        "model.learn(\n",
        "    total_timesteps=config[\"total_timesteps\"],\n",
        "    callback=WandbCallback(\n",
        "        gradient_save_freq=10,\n",
        "        model_save_path=f\"models/{run.id}\",\n",
        "        verbose=2,\n",
        "    ),\n",
        ")\n"
      ]
    },
    {
      "cell_type": "code",
      "source": [
        "!zip -r /content/videos_1M_param_1.zip /content/videos/"
      ],
      "metadata": {
        "id": "1yw0UfPHWY9N"
      },
      "execution_count": null,
      "outputs": []
    },
    {
      "cell_type": "code",
      "execution_count": null,
      "metadata": {
        "id": "8HWWTerUqXDe"
      },
      "outputs": [],
      "source": [
        "eval_env = gym.make('AntBulletEnv-v0')\n",
        "env = DummyVecEnv([make_env])\n",
        "model.save(\"ppo_ant_1M\")"
      ]
    },
    {
      "cell_type": "code",
      "execution_count": null,
      "metadata": {
        "id": "xb2f4zU6rWE4"
      },
      "outputs": [],
      "source": [
        "from stable_baselines3.common.evaluation import evaluate_policy"
      ]
    },
    {
      "cell_type": "code",
      "source": [
        "episodes = 5\n",
        "\n",
        "for ep in range(episodes):\n",
        "    obs = env.reset()\n",
        "    done = False\n",
        "    while not done:\n",
        "        action, _states = model.predict(obs)\n",
        "        obs, rewards, done, info = env.step(action)\n",
        "        env.render()        "
      ],
      "metadata": {
        "id": "d9S6pgqEIcAj"
      },
      "execution_count": null,
      "outputs": []
    },
    {
      "cell_type": "code",
      "source": [
        "model = PPO.load(\"ppo_ant_1M\")"
      ],
      "metadata": {
        "id": "BnvknoEBIesC"
      },
      "execution_count": null,
      "outputs": []
    },
    {
      "cell_type": "code",
      "source": [
        "mean_reward, std_reward = evaluate_policy(model,eval_env, render=False, n_eval_episodes=10, deterministic=True)\n",
        "\n",
        "print(f\"mean_reward={mean_reward:.2f} +/- {std_reward}\")"
      ],
      "metadata": {
        "id": "rZtTIlRFKSsl"
      },
      "execution_count": null,
      "outputs": []
    },
    {
      "cell_type": "markdown",
      "metadata": {
        "id": "i-EH9rTAk5Xw"
      },
      "source": [
        "Save agent"
      ]
    },
    {
      "cell_type": "markdown",
      "metadata": {
        "id": "ZscDGb9Ok8Y4"
      },
      "source": [
        "Test"
      ]
    }
  ],
  "metadata": {
    "colab": {
      "provenance": []
    },
    "kernelspec": {
      "display_name": "Python 3",
      "name": "python3"
    },
    "language_info": {
      "name": "python"
    }
  },
  "nbformat": 4,
  "nbformat_minor": 0
}